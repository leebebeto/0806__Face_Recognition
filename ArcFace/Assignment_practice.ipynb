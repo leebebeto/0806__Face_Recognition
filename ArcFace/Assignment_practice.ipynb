{
 "cells": [
  {
   "cell_type": "code",
   "execution_count": 1,
   "metadata": {},
   "outputs": [],
   "source": [
    "# import metrics\n",
    "import os\n",
    "import math\n",
    "import random\n",
    "import time\n",
    "from PIL import Image\n",
    "\n",
    "import torch # pytorch의 tensor와 그와 관련된 기본 연산 등을 지원\n",
    "import torch.nn as nn # 여러 딥러닝 layer와 loss, 함수 등을 클래스 형태로 지원\n",
    "import torch.nn.functional as F # 여러 loss, 함수 등을 function 형태로 지원\n",
    "import torch.optim as optim # 여러 optimizer를 지원\n",
    "import torchvision.models as models\n",
    "\n",
    "dev = 'cuda' if torch.cuda.is_available() else 'cpu'\n",
    "\n",
    "# GPU 선택\n",
    "os.environ['CUDA_VISIBLE_DEVICES']='0'"
   ]
  },
  {
   "cell_type": "markdown",
   "metadata": {},
   "source": [
    "### CosFace\n",
    "\n",
    "![Architecture](img/Cosface.PNG)\n",
    "\n",
    "ArcFace와 비슷한 모델 중 하나로 CosFace라는 모델이 있습니다. 위 Loss function은 CosFace의 loss function에 해당합니다. 위 loss function을 참고하여 아래의 ??? 부분을 채워주세요."
   ]
  },
  {
   "cell_type": "code",
   "execution_count": 1,
   "metadata": {},
   "outputs": [
    {
     "output_type": "error",
     "ename": "NameError",
     "evalue": "name 'nn' is not defined",
     "traceback": [
      "\u001b[0;31m---------------------------------------------------------------------------\u001b[0m",
      "\u001b[0;31mNameError\u001b[0m                                 Traceback (most recent call last)",
      "\u001b[0;32m<ipython-input-1-ef0597b12fbf>\u001b[0m in \u001b[0;36m<module>\u001b[0;34m\u001b[0m\n\u001b[0;32m----> 1\u001b[0;31m \u001b[0;32mclass\u001b[0m \u001b[0mCosMarginProduct\u001b[0m\u001b[0;34m(\u001b[0m\u001b[0mnn\u001b[0m\u001b[0;34m.\u001b[0m\u001b[0mModule\u001b[0m\u001b[0;34m)\u001b[0m\u001b[0;34m:\u001b[0m\u001b[0;34m\u001b[0m\u001b[0;34m\u001b[0m\u001b[0m\n\u001b[0m\u001b[1;32m      2\u001b[0m     '''\n\u001b[1;32m      3\u001b[0m     \u001b[0m목적\u001b[0m \u001b[0;34m:\u001b[0m \u001b[0mCosface\u001b[0m \u001b[0m의\u001b[0m \u001b[0mlast\u001b[0m \u001b[0mfc\u001b[0m \u001b[0mlayer의\u001b[0m \u001b[0m구현\u001b[0m\u001b[0;34m\u001b[0m\u001b[0;34m\u001b[0m\u001b[0m\n\u001b[1;32m      4\u001b[0m \u001b[0;34m\u001b[0m\u001b[0m\n\u001b[1;32m      5\u001b[0m     \u001b[0m인자\u001b[0m \u001b[0;34m:\u001b[0m\u001b[0;34m\u001b[0m\u001b[0;34m\u001b[0m\u001b[0m\n",
      "\u001b[0;31mNameError\u001b[0m: name 'nn' is not defined"
     ]
    }
   ],
   "source": [
    "class CosMarginProduct(nn.Module):\n",
    "    '''\n",
    "    목적 : Cosface 의 last fc layer의 구현\n",
    "    \n",
    "    인자 :\n",
    "    in_features : feature의 dimension\n",
    "    out_features : class 개수\n",
    "    '''\n",
    "    def __init__(self, in_features, out_features, s=30.0, m=0.1):\n",
    "        super(CosMarginProduct, self).__init__()        \n",
    "        self.in_features = in_features\n",
    "        self.out_features = out_features\n",
    "        self.s = s\n",
    "        self.m = m\n",
    "        # fc의 parameter 만들기 : (in_features x out_features)의 크기를 갖는 FloatTensor로 만들 것\n",
    "        self.weight = ???\n",
    "        nn.init.xavier_uniform_(self.weight)\n",
    "\n",
    "    def forward(self, input, label):\n",
    "        '''\n",
    "        Step 1. cos(theta)-m 계산하기\n",
    "        '''\n",
    "\n",
    "        # cos_theta = (x / ||x||) * (w * ||w||) 를 이용해 cosine_theta 구하기\n",
    "        cos = torch.mm(F.normalize(input, dim=???), F.normalize(self.weight, dim=???))\n",
    "        \n",
    "        # cos_theta - m 구하기\n",
    "        cos_m = ???\n",
    "        \n",
    "        '''\n",
    "        Step 2. cos(theta)-m 에서 dim=1에 대해 y_i에 해당하는 부분만 남기고 나머지는 cos(theta)로 되돌리기 \n",
    "        '''\n",
    "        one_hot = torch.zeros(cos.size()).to(dev)\n",
    "        one_hot.scatter_(1, label.view(-1, 1).long(), 1)\n",
    "        output = (??? * cos_m) + ((???) * cos)\n",
    "        \n",
    "        '''\n",
    "        Step 3. 최종 output 계산하기\n",
    "        '''\n",
    "        output *= ???\n",
    "        \n",
    "        return output"
   ]
  },
  {
   "cell_type": "markdown",
   "metadata": {},
   "source": [
    "### SphereFace\n",
    "\n",
    "![Architecture](img/Sphereface.PNG)\n",
    "\n",
    "ArcFace와 비슷한 모델 중 하나로 SphereFace 모델이 있습니다. 위 Loss function은 SphereFace의 loss function에 해당합니다. 위 loss function을 참고하여 아래의 ??? 부분을 채워주세요."
   ]
  },
  {
   "cell_type": "code",
   "execution_count": 3,
   "metadata": {},
   "outputs": [],
   "source": [
    "class SphereMarginProduct(nn.Module):\n",
    "    '''\n",
    "    목적 : Sphereface의 last fc layer의 구현\n",
    "    \n",
    "    인자 :\n",
    "    in_features : feature의 dimension\n",
    "    out_features : class 개수\n",
    "    '''\n",
    "    def __init__(self, in_features, out_features, m=4):\n",
    "        super(SphereMarginProduct, self).__init__()\n",
    "        self.in_features = in_features\n",
    "        self.out_features = out_features\n",
    "        self.m = m\n",
    "        \n",
    "        # fc의 parameter 만들기 (dimension은 (in_features x out_features))\n",
    "        self.weight = ???\n",
    "        nn.init.xavier_uniform_(self.weight)\n",
    "\n",
    "    def forward(self, input, label):\n",
    "        '''\n",
    "        Step 1. cos(m * theta) 계산하기\n",
    "        '''\n",
    "\n",
    "        # cos_theta = (x / ||x||) * (w * ||w||) 를 이용해 cosine_theta 구하기\n",
    "        cos = F.linear(F.normalize(input), F.normalize(self.weight))\n",
    "        \n",
    "        # cos(m * theta) 구하기. 논문에서 m=4로 제시하고 있으므로 m=4 일 경우에 대해서만 계산합니다.\n",
    "        # 효율성을 위해 arccos 등의 다른 연산 없이 위에서 얻은 cos만을 사용해 계산합니다.\n",
    "        cos_m = ???\n",
    "        \n",
    "        '''\n",
    "        Step 2. cos(m * theta) 에서 dim=1에 대해 y_i에 해당하는 부분만 남기고 나머지는 cos(theta)로 되돌리기 \n",
    "        '''\n",
    "        one_hot = torch.zeros(cos.size()).to('cpu')\n",
    "        one_hot.scatter_(1, label.view(-1, 1).long(), 1)\n",
    "        \n",
    "        output = (??? * cos_m) + ((???) * cos)\n",
    "\n",
    "        '''\n",
    "        Step 3. 최종 output 계산하기\n",
    "        '''\n",
    "        '''\n",
    "        ########################## 둘 다 맞아야 1개로 인정 ###########################\n",
    "        '''\n",
    "        x_norm = ???\n",
    "        output *= ???\n",
    "        return output\n"
   ]
  },
  {
   "cell_type": "markdown",
   "metadata": {},
   "source": [
    "### Backbone network\n",
    "\n",
    "ResNet-101을 이용하여 Backbone network를 구현합니다. 아래 코드의 ??? 부분을 채워주세요."
   ]
  },
  {
   "cell_type": "code",
   "execution_count": 4,
   "metadata": {},
   "outputs": [],
   "source": [
    "class FeatureNet_101(nn.Module):\n",
    "    def __init__(self, dim_feature):\n",
    "        super(FeatureNet_101, self).__init__()\n",
    "        resnet = models.resnet101(pretrained=False)\n",
    "\n",
    "        self.backbone = nn.Sequential(* list(resnet.children())[???])\n",
    "        self.bn_4 = nn.BatchNorm2d(???)\n",
    "        self.dropout = nn.Dropout()\n",
    "        self.fc = nn.Linear(???, dim_feature)\n",
    "        self.bn_5 = nn.BatchNorm1d(????)\n",
    "        \n",
    "    def forward(self, x):\n",
    "        out = self.backbone(x)\n",
    "        out = self.bn_4(out)\n",
    "        out = self.dropout(out)\n",
    "        out = out.view(out.size(0), -1)\n",
    "\n",
    "        out = self.fc(out)\n",
    "        out = self.bn_5(out)\n",
    "        return out"
   ]
  },
  {
   "cell_type": "markdown",
   "metadata": {},
   "source": [
    "### FaceNet\n",
    "\n",
    "위에서 구현한 각 모델의 마지막 FC layer들과 Backbone network를 합쳐서 하나의 얼굴인식모델을 만듭니다.\n",
    "아래 코드의 ??? 부분을 채워주세요."
   ]
  },
  {
   "cell_type": "code",
   "execution_count": 2,
   "metadata": {},
   "outputs": [
    {
     "output_type": "error",
     "ename": "NameError",
     "evalue": "name 'nn' is not defined",
     "traceback": [
      "\u001b[0;31m---------------------------------------------------------------------------\u001b[0m",
      "\u001b[0;31mNameError\u001b[0m                                 Traceback (most recent call last)",
      "\u001b[0;32m<ipython-input-2-9b06e3987dee>\u001b[0m in \u001b[0;36m<module>\u001b[0;34m\u001b[0m\n\u001b[0;32m----> 1\u001b[0;31m \u001b[0;32mclass\u001b[0m \u001b[0mFaceNet\u001b[0m\u001b[0;34m(\u001b[0m\u001b[0mnn\u001b[0m\u001b[0;34m.\u001b[0m\u001b[0mModule\u001b[0m\u001b[0;34m)\u001b[0m\u001b[0;34m:\u001b[0m\u001b[0;34m\u001b[0m\u001b[0;34m\u001b[0m\u001b[0m\n\u001b[0m\u001b[1;32m      2\u001b[0m     '''\n\u001b[1;32m      3\u001b[0m     \u001b[0mArcMarginProduct와\u001b[0m \u001b[0mFeatureNet\u001b[0m\u001b[0;34m-\u001b[0m\u001b[0;36m18\u001b[0m \u001b[0m을\u001b[0m \u001b[0m결합한\u001b[0m \u001b[0mArcFace\u001b[0m \u001b[0m모델의\u001b[0m \u001b[0m구현\u001b[0m\u001b[0;34m\u001b[0m\u001b[0;34m\u001b[0m\u001b[0m\n\u001b[1;32m      4\u001b[0m     '''\n\u001b[1;32m      5\u001b[0m     \u001b[0;32mdef\u001b[0m \u001b[0m__init__\u001b[0m\u001b[0;34m(\u001b[0m\u001b[0mself\u001b[0m\u001b[0;34m,\u001b[0m \u001b[0mfeature_dim\u001b[0m\u001b[0;34m,\u001b[0m \u001b[0mcls_num\u001b[0m\u001b[0;34m,\u001b[0m \u001b[0mmodel_type\u001b[0m\u001b[0;34m=\u001b[0m\u001b[0;34m'Cosface'\u001b[0m\u001b[0;34m)\u001b[0m\u001b[0;34m:\u001b[0m\u001b[0;34m\u001b[0m\u001b[0;34m\u001b[0m\u001b[0m\n",
      "\u001b[0;31mNameError\u001b[0m: name 'nn' is not defined"
     ]
    }
   ],
   "source": [
    "class FaceNet(nn.Module):\n",
    "    '''\n",
    "    ArcMarginProduct와 FeatureNet-18 을 결합한 ArcFace 모델의 구현\n",
    "    '''\n",
    "    def __init__(self, feature_dim, cls_num, model_type='Cosface'):\n",
    "        super(FaceNet, self).__init__()\n",
    "        self.feature_net = FeatureNet_101(feature_dim)\n",
    "        \n",
    "        if model_type == 'Cosface':\n",
    "            self.classifier = CosMarginProduct(feature_dim, cls_num)\n",
    "        elif model_type == 'Sphereface':\n",
    "            self.classifier = SphereMarginProduct(feature_dim, cls_num)\n",
    "\n",
    "    # 끝까지 Forward 하여 logit을 return\n",
    "    '''\n",
    "    ########################## 둘 다 맞아야 1개로 인정 ###########################\n",
    "    '''\n",
    "    def forward(self, x, label):\n",
    "        out = ???\n",
    "        return out\n",
    "    \n",
    "    # Feature만 return\n",
    "    def extract_feature(self, x):\n",
    "        out = ???\n",
    "        return out"
   ]
  },
  {
   "cell_type": "code",
   "execution_count": 6,
   "metadata": {},
   "outputs": [],
   "source": [
    "# 두 input 이미지의 유사도를 측정하는데 사용되는 cosine similarity\n",
    "\n",
    "def cos_dist(x1, x2):\n",
    "    return torch.sum(x1 * x2) / (torch.norm(x1) * torch.norm(x2))"
   ]
  },
  {
   "cell_type": "markdown",
   "metadata": {},
   "source": [
    "### FaceNet\n",
    "\n",
    "FaceNet을 이용하여 두 input 사이의 similarity를 계산합니다."
   ]
  },
  {
   "cell_type": "code",
   "execution_count": 7,
   "metadata": {
    "tags": []
   },
   "outputs": [
    {
     "output_type": "stream",
     "name": "stdout",
     "text": "SphereFace에서 두 input의 유사도는 0.999860 입니다.\nCosFace에서 두 input의 유사도는 0.999507 입니다.\n"
    }
   ],
   "source": [
    "'''\n",
    "########################## 다 맞아야 1개로 인정 ###########################\n",
    "'''\n",
    "# 두 input입니다.\n",
    "x_1 = torch.randn(1, 3, 128, 128).to(dev)\n",
    "x_2 = torch.randn(1, 3, 128, 128).to(dev)\n",
    "\n",
    "# 각 model을 만듭니다. 이 모델에서 사용하는 feature의 dim은 512고 class는 총 1000개가 있습니다.\n",
    "SphereFaceNet = ???\n",
    "CosFaceNet = ???\n",
    "\n",
    "# test를 위해 model을 test phase로 변경합니다.\n",
    "SphereFaceNet.???\n",
    "CosFaceNet.???\n",
    "\n",
    "# x_1, x_2로부터 SphereFace 모델을 이용해 feature를 추출합니다.\n",
    "feature_1 = ???\n",
    "feature_2 = ???\n",
    "\n",
    "# 두 feature의 유사도를 계산합니다.\n",
    "sim = cos_dist(feature_1, feature_2)\n",
    "print('SphereFace에서 두 input의 유사도는 %f 입니다.' % sim.item())\n",
    "\n",
    "# x_1, x_2로부터 CosFace 모델을 이용해 feature를 추출합니다.\n",
    "feature_1 = CosFaceNet.extract_feature(x_1)\n",
    "feature_2 = CosFaceNet.extract_feature(x_2)\n",
    "\n",
    "# 두 feature의 유사도를 계산합니다.\n",
    "sim = cos_dist(feature_1, feature_2)\n",
    "print('CosFace에서 두 input의 유사도는 %f 입니다.' % sim.item())"
   ]
  },
  {
   "cell_type": "code",
   "execution_count": null,
   "metadata": {},
   "outputs": [],
   "source": []
  }
 ],
 "metadata": {
  "kernelspec": {
   "display_name": "Python 3.6.10 64-bit ('0806_0807_face': conda)",
   "language": "python",
   "name": "python361064bit08060807facecondaa7d9fce3a4f2416db36b3de6040ea9cd"
  },
  "language_info": {
   "codemirror_mode": {
    "name": "ipython",
    "version": 3
   },
   "file_extension": ".py",
   "mimetype": "text/x-python",
   "name": "python",
   "nbconvert_exporter": "python",
   "pygments_lexer": "ipython3",
   "version": "3.7.7-final"
  },
  "pycharm": {
   "stem_cell": {
    "cell_type": "raw",
    "source": [],
    "metadata": {
     "collapsed": false
    }
   }
  }
 },
 "nbformat": 4,
 "nbformat_minor": 2
}